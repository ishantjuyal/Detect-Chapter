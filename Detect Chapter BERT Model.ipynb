{
  "nbformat": 4,
  "nbformat_minor": 0,
  "metadata": {
    "kernelspec": {
      "display_name": "Python 3",
      "language": "python",
      "name": "python3"
    },
    "language_info": {
      "codemirror_mode": {
        "name": "ipython",
        "version": 3
      },
      "file_extension": ".py",
      "mimetype": "text/x-python",
      "name": "python",
      "nbconvert_exporter": "python",
      "pygments_lexer": "ipython3",
      "version": "3.8.3"
    },
    "colab": {
      "name": "Detect Chapter BERT_Model.ipynb",
      "provenance": [],
      "collapsed_sections": []
    },
    "accelerator": "GPU"
  },
  "cells": [
    {
      "cell_type": "code",
      "metadata": {
        "id": "5ufaO84dyZug"
      },
      "source": [
        "!pip install ktrain"
      ],
      "execution_count": null,
      "outputs": []
    },
    {
      "cell_type": "code",
      "metadata": {
        "id": "fnPLPV7uyKPQ"
      },
      "source": [
        "import matplotlib.pyplot as plt\n",
        "import tensorflow as tf\n",
        "from ktrain import text\n",
        "import pandas as pd\n",
        "import numpy as np\n",
        "import ktrain\n",
        "import nltk\n",
        "import re"
      ],
      "execution_count": 2,
      "outputs": []
    },
    {
      "cell_type": "code",
      "metadata": {
        "id": "seb6cl83Tbq5"
      },
      "source": [
        "train = pd.read_csv(\"train.csv\")"
      ],
      "execution_count": 3,
      "outputs": []
    },
    {
      "cell_type": "code",
      "metadata": {
        "id": "FZyFwlDJyKPv",
        "colab": {
          "base_uri": "https://localhost:8080/",
          "height": 212
        },
        "outputId": "492aa04b-10fe-4a94-d193-ab57cc1cfa24"
      },
      "source": [
        "print(\"Shape of train is\", train.shape)\n",
        "train.head()"
      ],
      "execution_count": 4,
      "outputs": [
        {
          "output_type": "stream",
          "text": [
            "Shape of train is (104632, 4)\n"
          ],
          "name": "stdout"
        },
        {
          "output_type": "execute_result",
          "data": {
            "text/html": [
              "<div>\n",
              "<style scoped>\n",
              "    .dataframe tbody tr th:only-of-type {\n",
              "        vertical-align: middle;\n",
              "    }\n",
              "\n",
              "    .dataframe tbody tr th {\n",
              "        vertical-align: top;\n",
              "    }\n",
              "\n",
              "    .dataframe thead th {\n",
              "        text-align: right;\n",
              "    }\n",
              "</style>\n",
              "<table border=\"1\" class=\"dataframe\">\n",
              "  <thead>\n",
              "    <tr style=\"text-align: right;\">\n",
              "      <th></th>\n",
              "      <th>q_id</th>\n",
              "      <th>eng</th>\n",
              "      <th>class</th>\n",
              "      <th>chapter</th>\n",
              "    </tr>\n",
              "  </thead>\n",
              "  <tbody>\n",
              "    <tr>\n",
              "      <th>0</th>\n",
              "      <td>5eff5e6cbd1a9b18d83ad052</td>\n",
              "      <td>Photodiode is a device\\nA. Which is always ope...</td>\n",
              "      <td>12</td>\n",
              "      <td>SEMICONDUCTOR ELECTRONICS: MATERIALS, DEVICES ...</td>\n",
              "    </tr>\n",
              "    <tr>\n",
              "      <th>1</th>\n",
              "      <td>5efebdc3bd1a9b18d838b84b</td>\n",
              "      <td>When water is heated from \\( 0^{\\circ} \\mathrm...</td>\n",
              "      <td>11</td>\n",
              "      <td>THERMAL PROPERTIES OF MATTER</td>\n",
              "    </tr>\n",
              "    <tr>\n",
              "      <th>2</th>\n",
              "      <td>5efdacd9bd1a9b18d835e2c6</td>\n",
              "      <td>Potentiometer measures the potential differenc...</td>\n",
              "      <td>12</td>\n",
              "      <td>CURRENT ELECTRICITY</td>\n",
              "    </tr>\n",
              "    <tr>\n",
              "      <th>3</th>\n",
              "      <td>5efdca55bd1a9b18d8363327</td>\n",
              "      <td>In an isosceles trapezium, the length of one o...</td>\n",
              "      <td>12</td>\n",
              "      <td>APPLICATION OF INTEGRALS</td>\n",
              "    </tr>\n",
              "    <tr>\n",
              "      <th>4</th>\n",
              "      <td>5efe9020bd1a9b18d838427d</td>\n",
              "      <td>The normal to the curve \\( x^{2}=4 y \\)\\npassi...</td>\n",
              "      <td>12</td>\n",
              "      <td>APPLICATION OF DERIVATIVES</td>\n",
              "    </tr>\n",
              "  </tbody>\n",
              "</table>\n",
              "</div>"
            ],
            "text/plain": [
              "                       q_id  ...                                            chapter\n",
              "0  5eff5e6cbd1a9b18d83ad052  ...  SEMICONDUCTOR ELECTRONICS: MATERIALS, DEVICES ...\n",
              "1  5efebdc3bd1a9b18d838b84b  ...                       THERMAL PROPERTIES OF MATTER\n",
              "2  5efdacd9bd1a9b18d835e2c6  ...                                CURRENT ELECTRICITY\n",
              "3  5efdca55bd1a9b18d8363327  ...                           APPLICATION OF INTEGRALS\n",
              "4  5efe9020bd1a9b18d838427d  ...                         APPLICATION OF DERIVATIVES\n",
              "\n",
              "[5 rows x 4 columns]"
            ]
          },
          "metadata": {
            "tags": []
          },
          "execution_count": 4
        }
      ]
    },
    {
      "cell_type": "code",
      "metadata": {
        "colab": {
          "base_uri": "https://localhost:8080/",
          "height": 212
        },
        "id": "w0refAn3nePq",
        "outputId": "9e884274-bdef-4d59-9e01-075104685505"
      },
      "source": [
        "train = train.iloc[:60000, :]\n",
        "train = train[['eng', 'class', 'chapter']]\n",
        "print(train.shape)\n",
        "train.head()"
      ],
      "execution_count": 5,
      "outputs": [
        {
          "output_type": "stream",
          "text": [
            "(60000, 3)\n"
          ],
          "name": "stdout"
        },
        {
          "output_type": "execute_result",
          "data": {
            "text/html": [
              "<div>\n",
              "<style scoped>\n",
              "    .dataframe tbody tr th:only-of-type {\n",
              "        vertical-align: middle;\n",
              "    }\n",
              "\n",
              "    .dataframe tbody tr th {\n",
              "        vertical-align: top;\n",
              "    }\n",
              "\n",
              "    .dataframe thead th {\n",
              "        text-align: right;\n",
              "    }\n",
              "</style>\n",
              "<table border=\"1\" class=\"dataframe\">\n",
              "  <thead>\n",
              "    <tr style=\"text-align: right;\">\n",
              "      <th></th>\n",
              "      <th>eng</th>\n",
              "      <th>class</th>\n",
              "      <th>chapter</th>\n",
              "    </tr>\n",
              "  </thead>\n",
              "  <tbody>\n",
              "    <tr>\n",
              "      <th>0</th>\n",
              "      <td>Photodiode is a device\\nA. Which is always ope...</td>\n",
              "      <td>12</td>\n",
              "      <td>SEMICONDUCTOR ELECTRONICS: MATERIALS, DEVICES ...</td>\n",
              "    </tr>\n",
              "    <tr>\n",
              "      <th>1</th>\n",
              "      <td>When water is heated from \\( 0^{\\circ} \\mathrm...</td>\n",
              "      <td>11</td>\n",
              "      <td>THERMAL PROPERTIES OF MATTER</td>\n",
              "    </tr>\n",
              "    <tr>\n",
              "      <th>2</th>\n",
              "      <td>Potentiometer measures the potential differenc...</td>\n",
              "      <td>12</td>\n",
              "      <td>CURRENT ELECTRICITY</td>\n",
              "    </tr>\n",
              "    <tr>\n",
              "      <th>3</th>\n",
              "      <td>In an isosceles trapezium, the length of one o...</td>\n",
              "      <td>12</td>\n",
              "      <td>APPLICATION OF INTEGRALS</td>\n",
              "    </tr>\n",
              "    <tr>\n",
              "      <th>4</th>\n",
              "      <td>The normal to the curve \\( x^{2}=4 y \\)\\npassi...</td>\n",
              "      <td>12</td>\n",
              "      <td>APPLICATION OF DERIVATIVES</td>\n",
              "    </tr>\n",
              "  </tbody>\n",
              "</table>\n",
              "</div>"
            ],
            "text/plain": [
              "                                                 eng  ...                                            chapter\n",
              "0  Photodiode is a device\\nA. Which is always ope...  ...  SEMICONDUCTOR ELECTRONICS: MATERIALS, DEVICES ...\n",
              "1  When water is heated from \\( 0^{\\circ} \\mathrm...  ...                       THERMAL PROPERTIES OF MATTER\n",
              "2  Potentiometer measures the potential differenc...  ...                                CURRENT ELECTRICITY\n",
              "3  In an isosceles trapezium, the length of one o...  ...                           APPLICATION OF INTEGRALS\n",
              "4  The normal to the curve \\( x^{2}=4 y \\)\\npassi...  ...                         APPLICATION OF DERIVATIVES\n",
              "\n",
              "[5 rows x 3 columns]"
            ]
          },
          "metadata": {
            "tags": []
          },
          "execution_count": 5
        }
      ]
    },
    {
      "cell_type": "code",
      "metadata": {
        "colab": {
          "base_uri": "https://localhost:8080/"
        },
        "id": "PWA6PkKzoZ87",
        "outputId": "82f74b5a-2b10-4e1f-a109-a89f64ad54a3"
      },
      "source": [
        "nltk.download('stopwords')\n",
        "nltk.download('wordnet')\n",
        "nltk.download('punkt')\n",
        "\n",
        "import re\n",
        "from nltk.corpus import stopwords\n",
        "stop_words = stopwords.words('english')\n",
        "\n",
        "from nltk.stem import WordNetLemmatizer\n",
        "lemmatizer=WordNetLemmatizer()"
      ],
      "execution_count": 6,
      "outputs": [
        {
          "output_type": "stream",
          "text": [
            "[nltk_data] Downloading package stopwords to /root/nltk_data...\n",
            "[nltk_data]   Package stopwords is already up-to-date!\n",
            "[nltk_data] Downloading package wordnet to /root/nltk_data...\n",
            "[nltk_data]   Package wordnet is already up-to-date!\n",
            "[nltk_data] Downloading package punkt to /root/nltk_data...\n",
            "[nltk_data]   Package punkt is already up-to-date!\n"
          ],
          "name": "stdout"
        }
      ]
    },
    {
      "cell_type": "code",
      "metadata": {
        "id": "sRCl0_-hoZ_0"
      },
      "source": [
        "num_dict = {1: 'one', 2:'two', 3: 'three', 4:'four', 5:'five', 6: 'six', 7:'seven', 8: 'eight', 9: 'nine', 10: 'ten', 11: 'eleven', 12: 'twelve'}\n",
        "\n",
        "def do_preprocess(df):\n",
        "    for index, row in df.iterrows():\n",
        "        filter_sentence = ''\n",
        "        question = row['eng']\n",
        "        class_ = row['class']\n",
        "\n",
        "        sentence = 'class' + num_dict[class_] + ' ' + question\n",
        "\n",
        "\n",
        "        # Cleaning the sentence with regex\n",
        "        sentence = re.sub(r'[^\\w\\s]', '', sentence)\n",
        "\n",
        "        # Tokenization\n",
        "        words = nltk.word_tokenize(sentence)\n",
        "\n",
        "        # Stopwords removal\n",
        "        words = [w for w in words if not w in stop_words]\n",
        "        \n",
        "        for words in words:\n",
        "            filter_sentence = filter_sentence  + ' ' + str(lemmatizer.lemmatize(words)).lower()\n",
        "        \n",
        "        df.loc[index, 'eng'] = filter_sentence\n",
        "    df = df[['eng', 'chapter']]\n",
        "    return(df)"
      ],
      "execution_count": 7,
      "outputs": []
    },
    {
      "cell_type": "code",
      "metadata": {
        "id": "xY2cjMY8oaCq"
      },
      "source": [
        "train_preprocessed = do_preprocess(train)"
      ],
      "execution_count": 8,
      "outputs": []
    },
    {
      "cell_type": "code",
      "metadata": {
        "colab": {
          "base_uri": "https://localhost:8080/",
          "height": 212
        },
        "id": "rGV1Nll-oaFj",
        "outputId": "20530163-abde-4221-87e2-42e86d62ac57"
      },
      "source": [
        "print(\"Shape:\", train_preprocessed.shape)\n",
        "train_preprocessed.head()"
      ],
      "execution_count": 9,
      "outputs": [
        {
          "output_type": "stream",
          "text": [
            "Shape: (60000, 2)\n"
          ],
          "name": "stdout"
        },
        {
          "output_type": "execute_result",
          "data": {
            "text/html": [
              "<div>\n",
              "<style scoped>\n",
              "    .dataframe tbody tr th:only-of-type {\n",
              "        vertical-align: middle;\n",
              "    }\n",
              "\n",
              "    .dataframe tbody tr th {\n",
              "        vertical-align: top;\n",
              "    }\n",
              "\n",
              "    .dataframe thead th {\n",
              "        text-align: right;\n",
              "    }\n",
              "</style>\n",
              "<table border=\"1\" class=\"dataframe\">\n",
              "  <thead>\n",
              "    <tr style=\"text-align: right;\">\n",
              "      <th></th>\n",
              "      <th>eng</th>\n",
              "      <th>chapter</th>\n",
              "    </tr>\n",
              "  </thead>\n",
              "  <tbody>\n",
              "    <tr>\n",
              "      <th>0</th>\n",
              "      <td>classtwelve photodiode device a which always ...</td>\n",
              "      <td>SEMICONDUCTOR ELECTRONICS: MATERIALS, DEVICES ...</td>\n",
              "    </tr>\n",
              "    <tr>\n",
              "      <th>1</th>\n",
              "      <td>classeleven when water heated 0circ mathrmc v...</td>\n",
              "      <td>THERMAL PROPERTIES OF MATTER</td>\n",
              "    </tr>\n",
              "    <tr>\n",
              "      <th>2</th>\n",
              "      <td>classtwelve potentiometer measure potential d...</td>\n",
              "      <td>CURRENT ELECTRICITY</td>\n",
              "    </tr>\n",
              "    <tr>\n",
              "      <th>3</th>\n",
              "      <td>classtwelve in isosceles trapezium length one...</td>\n",
              "      <td>APPLICATION OF INTEGRALS</td>\n",
              "    </tr>\n",
              "    <tr>\n",
              "      <th>4</th>\n",
              "      <td>classtwelve the normal curve x24 passing 12 a...</td>\n",
              "      <td>APPLICATION OF DERIVATIVES</td>\n",
              "    </tr>\n",
              "  </tbody>\n",
              "</table>\n",
              "</div>"
            ],
            "text/plain": [
              "                                                 eng                                            chapter\n",
              "0   classtwelve photodiode device a which always ...  SEMICONDUCTOR ELECTRONICS: MATERIALS, DEVICES ...\n",
              "1   classeleven when water heated 0circ mathrmc v...                       THERMAL PROPERTIES OF MATTER\n",
              "2   classtwelve potentiometer measure potential d...                                CURRENT ELECTRICITY\n",
              "3   classtwelve in isosceles trapezium length one...                           APPLICATION OF INTEGRALS\n",
              "4   classtwelve the normal curve x24 passing 12 a...                         APPLICATION OF DERIVATIVES"
            ]
          },
          "metadata": {
            "tags": []
          },
          "execution_count": 9
        }
      ]
    },
    {
      "cell_type": "code",
      "metadata": {
        "colab": {
          "base_uri": "https://localhost:8080/"
        },
        "id": "buM-JgvPoaIm",
        "outputId": "09d8dfab-47d1-41eb-e8db-c674f72a83fe"
      },
      "source": [
        "train_preprocessed.chapter.value_counts()"
      ],
      "execution_count": 10,
      "outputs": [
        {
          "output_type": "execute_result",
          "data": {
            "text/plain": [
              "THE p-BLOCK ELEMENTS                  2038\n",
              "RAY OPTICS AND OPTICAL INSTRUMENTS    1504\n",
              "EQUILIBRIUM                           1212\n",
              "STRUCTURE OF ATOM                     1188\n",
              "MOTION IN A STRAIGHT LINE             1095\n",
              "                                      ... \n",
              "RATIO AND PROPORTION                     6\n",
              "REACHING THE AGE OF ADOLESCENCE          6\n",
              "NUTRTION IN ANIMALS                      6\n",
              "COMPONENTS OF FOOD                       5\n",
              "INTRODUCTION TO EUCLID’S GEOMETRY        5\n",
              "Name: chapter, Length: 202, dtype: int64"
            ]
          },
          "metadata": {
            "tags": []
          },
          "execution_count": 10
        }
      ]
    },
    {
      "cell_type": "code",
      "metadata": {
        "colab": {
          "base_uri": "https://localhost:8080/"
        },
        "id": "rT8_W9wyk8Al",
        "outputId": "93095f23-95b8-46a3-f765-33f4922c2975"
      },
      "source": [
        "maxx = -1\n",
        "for index, row in train_preprocessed.iterrows():\n",
        "    sentence = row[\"eng\"]\n",
        "    words = sentence.split()\n",
        "    maxx = max(maxx, len(words))\n",
        "\n",
        "print(maxx)"
      ],
      "execution_count": 11,
      "outputs": [
        {
          "output_type": "stream",
          "text": [
            "213\n"
          ],
          "name": "stdout"
        }
      ]
    },
    {
      "cell_type": "code",
      "metadata": {
        "id": "7FAsGrd_yKP7",
        "colab": {
          "base_uri": "https://localhost:8080/",
          "height": 134
        },
        "outputId": "63872766-aa2e-40bf-f9b0-02ea06540730"
      },
      "source": [
        "(X_train, y_train), (X_test, y_test), preprocess = text.texts_from_df(train_df= train_preprocessed, \n",
        "                                                                      text_column = 'eng',\n",
        "                                                                      label_columns = 'chapter',\n",
        "                                                                      maxlen = 256,\n",
        "                                                                      preprocess_mode = 'bert')"
      ],
      "execution_count": 12,
      "outputs": [
        {
          "output_type": "stream",
          "text": [
            "preprocessing train...\n",
            "language: en\n"
          ],
          "name": "stdout"
        },
        {
          "output_type": "display_data",
          "data": {
            "text/html": [
              "done."
            ],
            "text/plain": [
              "<IPython.core.display.HTML object>"
            ]
          },
          "metadata": {
            "tags": []
          }
        },
        {
          "output_type": "stream",
          "text": [
            "Is Multi-Label? False\n",
            "preprocessing test...\n",
            "language: en\n"
          ],
          "name": "stdout"
        },
        {
          "output_type": "display_data",
          "data": {
            "text/html": [
              "done."
            ],
            "text/plain": [
              "<IPython.core.display.HTML object>"
            ]
          },
          "metadata": {
            "tags": []
          }
        }
      ]
    },
    {
      "cell_type": "code",
      "metadata": {
        "id": "PpaCs0rryKQM",
        "colab": {
          "base_uri": "https://localhost:8080/"
        },
        "outputId": "3dcfdcda-d8f6-4832-b51a-280be5eec7c5"
      },
      "source": [
        "model = text.text_classifier(name= 'bert',\n",
        "                             train_data= (X_train, y_train),\n",
        "                             preproc = preprocess)"
      ],
      "execution_count": 13,
      "outputs": [
        {
          "output_type": "stream",
          "text": [
            "Is Multi-Label? False\n",
            "maxlen is 256\n",
            "done.\n"
          ],
          "name": "stdout"
        }
      ]
    },
    {
      "cell_type": "code",
      "metadata": {
        "id": "YB38ZV2KyKQV"
      },
      "source": [
        "# Get Learning Rate\n",
        "learner = ktrain.get_learner(model = model,\n",
        "                             train_data = (X_train, y_train),\n",
        "                             val_data = (X_test, y_test),\n",
        "                             batch_size = 18)"
      ],
      "execution_count": 16,
      "outputs": []
    },
    {
      "cell_type": "code",
      "metadata": {
        "id": "59JlgAa-yKQb",
        "colab": {
          "base_uri": "https://localhost:8080/"
        },
        "outputId": "910f1788-4ba1-4ece-f95e-b7f46a5e678d"
      },
      "source": [
        "learner.fit_onecycle(lr = 2e-5, epochs = 1)"
      ],
      "execution_count": 56,
      "outputs": [
        {
          "output_type": "stream",
          "text": [
            "\n",
            "\n",
            "begin training using onecycle policy with max lr of 2e-05...\n",
            "3000/3000 [==============================] - 3936s 1s/step - loss: 0.7619 - accuracy: 0.7967 - val_loss: 0.7774 - val_accuracy: 0.7897\n"
          ],
          "name": "stdout"
        },
        {
          "output_type": "execute_result",
          "data": {
            "text/plain": [
              "<tensorflow.python.keras.callbacks.History at 0x7f1479630048>"
            ]
          },
          "metadata": {
            "tags": []
          },
          "execution_count": 56
        }
      ]
    },
    {
      "cell_type": "code",
      "metadata": {
        "id": "J1BmM67kyKQg"
      },
      "source": [
        "predictor = ktrain.get_predictor(learner.model, preproc= preprocess)"
      ],
      "execution_count": 57,
      "outputs": []
    },
    {
      "cell_type": "code",
      "metadata": {
        "id": "3go98SRzrCbZ"
      },
      "source": [
        "val = pd.read_csv('val.csv')"
      ],
      "execution_count": 58,
      "outputs": []
    },
    {
      "cell_type": "code",
      "metadata": {
        "id": "7FCoF2derSg0"
      },
      "source": [
        "val = do_preprocess(val)"
      ],
      "execution_count": 59,
      "outputs": []
    },
    {
      "cell_type": "code",
      "metadata": {
        "colab": {
          "base_uri": "https://localhost:8080/",
          "height": 212
        },
        "id": "gIS-pXgzrSkQ",
        "outputId": "0fab9c76-f881-486c-c2f2-e7a413fc77cb"
      },
      "source": [
        "print(\"Shape\", val.shape)\n",
        "val.head()"
      ],
      "execution_count": 60,
      "outputs": [
        {
          "output_type": "stream",
          "text": [
            "Shape (11626, 2)\n"
          ],
          "name": "stdout"
        },
        {
          "output_type": "execute_result",
          "data": {
            "text/html": [
              "<div>\n",
              "<style scoped>\n",
              "    .dataframe tbody tr th:only-of-type {\n",
              "        vertical-align: middle;\n",
              "    }\n",
              "\n",
              "    .dataframe tbody tr th {\n",
              "        vertical-align: top;\n",
              "    }\n",
              "\n",
              "    .dataframe thead th {\n",
              "        text-align: right;\n",
              "    }\n",
              "</style>\n",
              "<table border=\"1\" class=\"dataframe\">\n",
              "  <thead>\n",
              "    <tr style=\"text-align: right;\">\n",
              "      <th></th>\n",
              "      <th>eng</th>\n",
              "      <th>chapter</th>\n",
              "    </tr>\n",
              "  </thead>\n",
              "  <tbody>\n",
              "    <tr>\n",
              "      <th>0</th>\n",
              "      <td>classten 70 the length three median triangle ...</td>\n",
              "      <td>TRIANGLES</td>\n",
              "    </tr>\n",
              "    <tr>\n",
              "      <th>1</th>\n",
              "      <td>classtwelve an electron accelerates point nea...</td>\n",
              "      <td>ELECTROSTATIC POTENTIAL AND CAPACITANCE</td>\n",
              "    </tr>\n",
              "    <tr>\n",
              "      <th>2</th>\n",
              "      <td>classeleven horizontal vertical component for...</td>\n",
              "      <td>SYSTEMS OF PARTICLES AND ROTATIONAL MOTION</td>\n",
              "    </tr>\n",
              "    <tr>\n",
              "      <th>3</th>\n",
              "      <td>classtwelve f boldsymbolyboldsymbola co sin 2...</td>\n",
              "      <td>CONTINUITY AND DIFFERENTIABILITY</td>\n",
              "    </tr>\n",
              "    <tr>\n",
              "      <th>4</th>\n",
              "      <td>classtwelve 10 a population pt 1000 bacteria ...</td>\n",
              "      <td>APPLICATION OF DERIVATIVES</td>\n",
              "    </tr>\n",
              "  </tbody>\n",
              "</table>\n",
              "</div>"
            ],
            "text/plain": [
              "                                                 eng                                     chapter\n",
              "0   classten 70 the length three median triangle ...                                   TRIANGLES\n",
              "1   classtwelve an electron accelerates point nea...     ELECTROSTATIC POTENTIAL AND CAPACITANCE\n",
              "2   classeleven horizontal vertical component for...  SYSTEMS OF PARTICLES AND ROTATIONAL MOTION\n",
              "3   classtwelve f boldsymbolyboldsymbola co sin 2...            CONTINUITY AND DIFFERENTIABILITY\n",
              "4   classtwelve 10 a population pt 1000 bacteria ...                  APPLICATION OF DERIVATIVES"
            ]
          },
          "metadata": {
            "tags": []
          },
          "execution_count": 60
        }
      ]
    },
    {
      "cell_type": "code",
      "metadata": {
        "id": "XM2OR-6kWiN4"
      },
      "source": [
        "data = np.array(val['eng'])\n",
        "y_t = np.array(val['chapter'])"
      ],
      "execution_count": 61,
      "outputs": []
    },
    {
      "cell_type": "code",
      "metadata": {
        "id": "oZUhJ7yn5V3X",
        "colab": {
          "base_uri": "https://localhost:8080/",
          "height": 17
        },
        "outputId": "235aeb6a-6c3e-403b-a1ea-5d5d03d91a4b"
      },
      "source": [
        "y_pred = predictor.predict(data)\n",
        "y_pred = np.array(y_pred)"
      ],
      "execution_count": 62,
      "outputs": [
        {
          "output_type": "display_data",
          "data": {
            "text/html": [
              ""
            ],
            "text/plain": [
              "<IPython.core.display.HTML object>"
            ]
          },
          "metadata": {
            "tags": []
          }
        }
      ]
    },
    {
      "cell_type": "code",
      "metadata": {
        "colab": {
          "base_uri": "https://localhost:8080/"
        },
        "id": "tT_sycxT5bnt",
        "outputId": "3d843917-c437-437c-8845-9b8960b43248"
      },
      "source": [
        "from sklearn.metrics import accuracy_score\n",
        "from sklearn.metrics import classification_report\n",
        "\n",
        "print(\"Accuracy score for test data is:\")\n",
        "print(accuracy_score(y_t, y_pred))"
      ],
      "execution_count": 63,
      "outputs": [
        {
          "output_type": "stream",
          "text": [
            "Accuracy score for test data is:\n",
            "0.7925339755719938\n"
          ],
          "name": "stdout"
        }
      ]
    },
    {
      "cell_type": "code",
      "metadata": {
        "id": "T_wKpuuiOLPM",
        "colab": {
          "base_uri": "https://localhost:8080/"
        },
        "outputId": "bcfed45b-4bed-49b1-ccb4-7a5629321f98"
      },
      "source": [
        "print(classification_report(y_t, y_pred))"
      ],
      "execution_count": 64,
      "outputs": [
        {
          "output_type": "stream",
          "text": [
            "/usr/local/lib/python3.6/dist-packages/sklearn/metrics/_classification.py:1272: UndefinedMetricWarning: Precision and F-score are ill-defined and being set to 0.0 in labels with no predicted samples. Use `zero_division` parameter to control this behavior.\n",
            "  _warn_prf(average, modifier, msg_start, len(result))\n"
          ],
          "name": "stderr"
        },
        {
          "output_type": "stream",
          "text": [
            "                                                                   precision    recall  f1-score   support\n",
            "\n",
            "                                           ACIDS, BASES AND SALTS       0.88      0.70      0.78        20\n",
            "                                     ALCOHOLS, PHENOLS AND ETHERS       0.61      0.60      0.61        86\n",
            "                          ALDEHYDES, KETONES AND CARBOXYLIC ACIDS       0.54      0.71      0.61       109\n",
            "                                            ALGEBRAIC EXPRESSIONS       0.50      0.22      0.31         9\n",
            "                             ALGEBRAIC EXPRESSIONS AND IDENTITIES       0.48      0.74      0.58        19\n",
            "                                              ALTERNATING CURRENT       0.89      0.88      0.88        99\n",
            "                                                           AMINES       0.85      0.50      0.63        46\n",
            "                                      ANATOMY OF FLOWERING PLANTS       0.78      0.91      0.84        43\n",
            "                                                   ANIMAL KINGDOM       0.71      0.71      0.71        41\n",
            "                                       APPLICATION OF DERIVATIVES       0.69      0.80      0.74        96\n",
            "                                         APPLICATION OF INTEGRALS       0.87      0.81      0.84        48\n",
            "                                         AREAS RELATED TO CIRCLES       0.79      0.85      0.81        26\n",
            "                                                            ATOMS       0.75      0.81      0.78        73\n",
            "                                              ATOMS AND MOLECULES       0.00      0.00      0.00         3\n",
            "                                                 BINOMIAL THEOREM       0.94      0.84      0.89        37\n",
            "                                    BIODIVERSITY AND CONSERVATION       0.00      0.00      0.00         4\n",
            "                                        BIOLOGICAL CLASSIFICATION       0.73      0.72      0.73        50\n",
            "                                                     BIOMOLECULES       0.86      0.76      0.80       143\n",
            "                                      BODY FLUIDS AND CIRCULATION       0.79      0.82      0.80        55\n",
            "                                  BREATHING AND EXCHANGE OF GASES       0.72      0.76      0.74        37\n",
            "                                         CARBON AND ITS COMPOUNDS       0.82      0.78      0.80        18\n",
            "                                          CELL : THE UNIT OF LIFE       0.86      0.32      0.46        19\n",
            "                                     CELL CYCLE AND CELL DIVISION       0.89      0.98      0.93        41\n",
            "                                   CELL — STRUCTURE AND FUNCTIONS       0.00      0.00      0.00         2\n",
            "                         CHEMICAL BONDING AND MOLECULAR STRUCTURE       0.71      0.77      0.74       171\n",
            "                            CHEMICAL COORDINATION AND INTEGRATION       0.72      0.78      0.75        27\n",
            "                             CHEMICAL EFFECTS OF ELECTRIC CURRENT       1.00      0.17      0.29         6\n",
            "                                                CHEMICAL KINETICS       0.91      0.93      0.92        96\n",
            "                                 CHEMICAL REACTIONS AND EQUATIONS       0.00      0.00      0.00         6\n",
            "                                       CHEMISTRY IN EVERYDAY LIFE       0.84      0.82      0.83        72\n",
            "                                                          CIRCLES       0.85      0.98      0.91        51\n",
            "         CLASSIFICATION OF ELEMENTS AND PERIODICITY IN PROPERTIES       0.76      0.77      0.76       117\n",
            "                                               COAL AND PETROLEUM       0.73      0.86      0.79        22\n",
            "                                             COMBUSTION AND FLAME       0.77      0.83      0.80        29\n",
            "                                            COMMUNICATION SYSTEMS       0.00      0.00      0.00         4\n",
            "                                             COMPARING QUANTITIES       0.90      0.88      0.89       103\n",
            "                          COMPLEX NUMBERS AND QUADRATIC EQUATIONS       0.81      0.86      0.84        80\n",
            "                                               COMPONENTS OF FOOD       0.00      0.00      0.00         1\n",
            "                                          CONGRUENCE OF TRIANGLES       0.00      0.00      0.00        11\n",
            "                                                   CONIC SECTIONS       0.93      0.95      0.94        58\n",
            "                               CONSERVATION OF PLANTS AND ANIMALS       0.00      0.00      0.00         2\n",
            "                                                    CONSTRUCTIONS       0.96      0.79      0.86        28\n",
            "                                 CONTINUITY AND DIFFERENTIABILITY       0.81      0.83      0.82       173\n",
            "                                         CONTROL AND COORDINATION       0.00      0.00      0.00         5\n",
            "                                           COORDINATION COMPOUNDS       0.87      0.73      0.79       103\n",
            "                                             CUBES AND CUBE ROOTS       1.00      0.70      0.82        23\n",
            "                                              CURRENT ELECTRICITY       0.84      0.85      0.84       208\n",
            "                                                    DATA HANDLING       0.65      0.81      0.72        16\n",
            "                                                     DETERMINANTS       0.80      0.74      0.77        85\n",
            "                                           DIFFERENTIAL EQUATIONS       0.96      0.71      0.81        78\n",
            "                                         DIGESTION AND ABSORPTION       0.82      0.89      0.85        36\n",
            "                                   DIRECT AND INVERSE PROPORTIONS       0.50      0.11      0.18         9\n",
            "                              DUAL NATURE OF RADIATION AND MATTER       0.70      0.87      0.77        45\n",
            "                                                        ECOSYSTEM       0.79      0.88      0.83        34\n",
            "                                      ELECTRIC CHARGES AND FIELDS       0.78      0.80      0.79       157\n",
            "                                  ELECTRIC CURRENT AND ITS EFFECT       0.68      1.00      0.81        13\n",
            "                                                      ELECTRICITY       0.00      0.00      0.00         1\n",
            "                                                 ELECTROCHEMISTRY       0.82      0.83      0.82       157\n",
            "                                        ELECTROMAGNETIC INDUCTION       0.76      0.74      0.75       125\n",
            "                                            ELECTROMAGNETIC WAVES       0.71      0.41      0.52        37\n",
            "                          ELECTROSTATIC POTENTIAL AND CAPACITANCE       0.79      0.74      0.77       117\n",
            "                                          ENVIRONMENTAL CHEMISTRY       0.81      0.87      0.84        68\n",
            "                                             ENVIRONMENTAL ISSUES       0.81      0.95      0.87        57\n",
            "                                                      EQUILIBRIUM       0.84      0.88      0.86       230\n",
            "                                                        EVOLUTION       0.85      0.89      0.87        19\n",
            "                         EXCRETORY PRODUCTS AND THEIR ELIMINATION       0.79      0.82      0.80        40\n",
            "                                                    FACTORISATION       0.80      0.63      0.71        19\n",
            "                                                  FIBRE TO FABRIC       0.59      0.91      0.71        11\n",
            "                                         FORCE AND LAWS OF MOTION       1.00      0.83      0.91         6\n",
            "                                               FORCE AND PRESSURE       0.89      0.62      0.73        13\n",
            "                                            FORESTS: OUR LIFELINE       0.00      0.00      0.00         4\n",
            "                                           FRACTIONS AND DECIMALS       0.49      0.91      0.63        22\n",
            "        GENERAL PRINCIPLES AND PROCESSES OF ISOLATION OF ELEMENTS       0.81      0.87      0.84       107\n",
            "                                                      GRAVITATION       0.82      0.86      0.84       103\n",
            "                                       HALOALKANES AND HALOARENES       0.57      0.61      0.59       104\n",
            "                                                             HEAT       0.00      0.00      0.00         4\n",
            "                                           HEREDITY AND EVOLUTION       1.00      0.20      0.33        10\n",
            "                                      HOW DO ORGANISMS REPRODUCE?       0.59      0.71      0.65        14\n",
            "                                         HUMAN HEALTH AND DISEASE       0.00      0.00      0.00         2\n",
            "                                               HUMAN REPRODUCTION       0.78      0.78      0.78         9\n",
            "                                                         HYDROGEN       0.60      0.69      0.64        98\n",
            "                                                         INTEGERS       0.58      0.88      0.70        16\n",
            "                                                        INTEGRALS       0.92      0.91      0.91       192\n",
            "                                INTRODUCTION TO EUCLID’S GEOMETRY       0.00      0.00      0.00         2\n",
            "                                           INTRODUCTION TO GRAPHS       0.00      0.00      0.00         8\n",
            "                                     INTRODUCTION TO TRIGONOMETRY       0.91      0.95      0.93        22\n",
            "                                  INVERSE TRIGONOMETRIC FUNCTIONS       0.87      0.89      0.88        95\n",
            "                                                   KINETIC THEORY       0.25      0.04      0.07        24\n",
            "                                                   LAWS OF MOTION       0.67      0.81      0.73       181\n",
            "                                                   LIFE PROCESSES       0.77      0.98      0.86        42\n",
            "                                                            LIGHT       0.91      0.91      0.91        11\n",
            "                                LIGHT - REFLECTION AND REFRACTION       0.00      0.00      0.00         4\n",
            "                                           LIMITS AND DERIVATIVES       0.96      0.96      0.96        68\n",
            "                                 LINEAR EQUATIONS IN ONE VARIABLE       0.53      0.59      0.56        34\n",
            "                                LINEAR EQUATIONS IN TWO VARIABLES       0.71      0.59      0.65        17\n",
            "                                               LINEAR PROGRAMMING       0.89      0.70      0.78        23\n",
            "                                                 LINES AND ANGLES       0.78      0.76      0.77        33\n",
            "                                          LOCOMOTION AND MOVEMENT       0.57      0.44      0.50        18\n",
            "                             MAGNETIC EFFECTS OF ELECTRIC CURRENT       0.83      0.93      0.88        27\n",
            "                                             MAGNETISM AND MATTER       0.83      0.75      0.79        72\n",
            "                                MATERIALS : METALS AND NON-METALS       0.50      0.62      0.56         8\n",
            "                                           MATHEMATICAL REASONING       0.84      0.96      0.90        27\n",
            "                                                         MATRICES       0.83      0.90      0.86        88\n",
            "                                       MATTER IN OUR SURROUNDINGS       0.00      0.00      0.00         2\n",
            "                                  MECHANICAL PROPERTIES OF FLUIDS       0.77      0.85      0.81       105\n",
            "                                  MECHANICAL PROPERTIES OF SOLIDS       0.92      0.80      0.86        81\n",
            "                                                      MENSURATION       0.78      0.87      0.82        46\n",
            "                                            METALS AND NON-METALS       0.73      0.90      0.81        52\n",
            "                                                MINERAL NUTRITION       1.00      0.20      0.33        10\n",
            "                                   MOLECULAR BASIS OF INHERITANCE       0.82      0.89      0.85        45\n",
            "                                   MORPHOLOGY OF FLOWERING PLANTS       0.78      0.74      0.76        34\n",
            "                                                MOTION IN A PLANE       0.68      0.61      0.64       125\n",
            "                                        MOTION IN A STRAIGHT LINE       0.73      0.81      0.77       210\n",
            "                                     MOVING CHARGES AND MAGNETISM       0.74      0.81      0.77       137\n",
            "                                                NATURAL RESOURCES       0.75      0.90      0.82        10\n",
            "                                  NEURAL CONTROL AND COORDINATION       0.86      0.82      0.84        22\n",
            "                                                           NUCLEI       0.88      0.86      0.87       115\n",
            "                                                   NUMBER SYSTEMS       0.90      0.72      0.80        25\n",
            "                                              NUTRTION IN ANIMALS       0.00      0.00      0.00         1\n",
            "         ORGANIC CHEMISTRY – SOME BASIC PRINCIPLES AND TECHNIQUES       0.73      0.73      0.73       148\n",
            "                                                     OSCILLATIONS       0.86      0.77      0.81        74\n",
            "                                                  OUR ENVIRONMENT       0.00      0.00      0.00         5\n",
            "                        PAIR OF LINEAR EQUATIONS IN TWO VARIABLES       0.75      0.85      0.80        39\n",
            "                                               PERIMETER AND AREA       0.75      0.67      0.71         9\n",
            "                              PERIODIC CLASSIFICATION OF ELEMENTS       0.73      0.67      0.70        12\n",
            "                                    PERMUTATIONS AND COMBINATIONS       0.81      0.78      0.79        54\n",
            "                                  PHOTOSYNTHESIS IN HIGHER PLANTS       0.86      0.51      0.64        35\n",
            "                                    PHYSICAL AND CHEMICAL CHANGES       0.59      0.81      0.68        16\n",
            "                                                   PHYSICAL WORLD       1.00      0.18      0.31        11\n",
            "                                     PLANT GROWTH AND DEVELOPMENT       0.85      0.72      0.78        32\n",
            "                                                    PLANT KINGDOM       0.76      0.87      0.81        60\n",
            "                                       POLLUTION OF AIR AND WATER       0.70      0.64      0.67        11\n",
            "                                                         POLYMERS       0.94      0.97      0.96        69\n",
            "                                                      POLYNOMIALS       0.80      0.95      0.87        73\n",
            "                                               PRACTICAL GEOMETRY       0.89      0.84      0.86        19\n",
            "                              PRINCIPLE OF MATHEMATICAL INDUCTION       1.00      0.31      0.47        13\n",
            "                          PRINCIPLES OF INHERITANCE AND VARIATION       0.83      0.83      0.83        23\n",
            "                                                      PROBABILITY       0.96      0.96      0.96       162\n",
            "                                              QUADRATIC EQUATIONS       0.74      0.76      0.75        45\n",
            "                                                   QUADRILATERALS       1.00      0.30      0.46        10\n",
            "                                             RATIO AND PROPORTION       0.00      0.00      0.00         1\n",
            "                                                 RATIONAL NUMBERS       0.87      0.48      0.62        27\n",
            "                               RAY OPTICS AND OPTICAL INSTRUMENTS       0.94      0.91      0.93       288\n",
            "                                  REACHING THE AGE OF ADOLESCENCE       0.00      0.00      0.00         1\n",
            "                                                     REAL NUMBERS       0.94      0.75      0.83        20\n",
            "                                                  REDOX REACTIONS       0.69      0.80      0.74        87\n",
            "                                          RELATIONS AND FUNCTIONS       0.84      0.76      0.80       144\n",
            "                                          REPRODUCTION IN ANIMALS       0.00      0.00      0.00         4\n",
            "                                        REPRODUCTION IN ORGANISMS       0.78      0.78      0.78        18\n",
            "                                              REPRODUCTIVE HEALTH       0.83      0.88      0.86        17\n",
            "                                         RESPIRATION IN ORGANISMS       0.00      0.00      0.00         1\n",
            "                                            RESPIRATION IN PLANTS       0.79      0.80      0.80        46\n",
            "SEMICONDUCTOR ELECTRONICS: MATERIALS, DEVICES AND SIMPLE CIRCUITS       0.82      0.82      0.82       114\n",
            "                                             SEQUENCES AND SERIES       0.87      0.91      0.89       181\n",
            "                                                             SETS       0.87      0.87      0.87        39\n",
            "                          SEXUAL REPRODUCTION IN FLOWERING PLANTS       1.00      0.94      0.97        16\n",
            "                                                 SIMPLE EQUATIONS       0.00      0.00      0.00         9\n",
            "                                                             SOIL       0.62      0.71      0.67         7\n",
            "                                                        SOLUTIONS       0.87      0.89      0.88       169\n",
            "                                SOME APPLICATIONS OF TRIGONOMETRY       1.00      0.43      0.60         7\n",
            "                                 SOME BASIC CONCEPTS OF CHEMISTRY       0.61      0.60      0.61       148\n",
            "                                           SOME NATURAL PHENOMENA       0.72      0.96      0.83        27\n",
            "                                                            SOUND       0.96      1.00      0.98        48\n",
            "                                                SOURCES OF ENERGY       0.74      0.89      0.81        19\n",
            "                                         SQUARES AND SQUARE ROOTS       0.48      0.55      0.51        20\n",
            "                                       STARS AND THE SOLAR SYSTEM       0.90      0.87      0.89        31\n",
            "                                                 STATES OF MATTER       0.47      0.57      0.51        61\n",
            "                                                       STATISTICS       1.00      0.86      0.93        88\n",
            "                                                   STRAIGHT LINES       0.86      0.93      0.89        82\n",
            "                               STRUCTURAL ORGANIZATION IN ANIMALS       0.72      0.70      0.71        33\n",
            "                                                STRUCTURE OF ATOM       0.82      0.81      0.81       224\n",
            "                                            STRUCTURE OF THE ATOM       0.83      1.00      0.91        10\n",
            "                                        SURFACE AREAS AND VOLUMES       0.98      0.98      0.98        55\n",
            "                                                SURFACE CHEMISTRY       0.76      0.82      0.79       113\n",
            "                      SUSTAINABLE MANAGEMENT OF NATURAL RESOURCES       0.00      0.00      0.00         3\n",
            "                                                         SYMMETRY       0.89      0.67      0.76        12\n",
            "                                    SYNTHETIC FIBRES AND PLASTICS       0.82      0.90      0.86        20\n",
            "                       SYSTEMS OF PARTICLES AND ROTATIONAL MOTION       0.79      0.72      0.75       150\n",
            "                                                 THE LIVING WORLD       0.86      0.56      0.68        32\n",
            "                                                  THE SOLID STATE       1.00      0.09      0.17        11\n",
            "                                  THE TRIANGLE AND ITS PROPERTIES       0.64      1.00      0.78        45\n",
            "                                       THE d-AND f-BLOCK ELEMENTS       0.70      0.71      0.71       101\n",
            "                                             THE p-BLOCK ELEMENTS       0.81      0.76      0.78       390\n",
            "                                             THE s-BLOCK ELEMENTS       0.74      0.55      0.63        76\n",
            "                                     THERMAL PROPERTIES OF MATTER       0.73      0.79      0.76       154\n",
            "                                                   THERMODYNAMICS       0.77      0.75      0.76       198\n",
            "                                       THREE DIMENSIONAL GEOMETRY       0.79      0.84      0.81        88\n",
            "                                              TRANSPORT IN PLANTS       0.56      0.79      0.66        28\n",
            "                             TRANSPORTATION IN ANIMALS AND PLANTS       1.00      1.00      1.00         6\n",
            "                                                        TRIANGLES       0.78      0.78      0.78        45\n",
            "                                          TRIGONOMETRIC FUNCTIONS       0.90      0.94      0.92       151\n",
            "                                     UNDERSTANDING QUADRILATERALS       0.79      0.85      0.81        52\n",
            "                                            UNITS AND MEASUREMENT       0.77      0.75      0.76       122\n",
            "                                                   VECTOR ALGEBRA       0.87      0.88      0.88        94\n",
            "                                         VISUALISING SOLID SHAPES       1.00      0.20      0.33         5\n",
            "                                                WASTE WATER STORY       0.75      0.67      0.71         9\n",
            "                                       WATER: A PRECIOUS RESOURCE       0.62      0.80      0.70        10\n",
            "                                                      WAVE OPTICS       0.85      0.86      0.86        95\n",
            "                                                            WAVES       0.91      0.88      0.90        83\n",
            "           WEATHER, CLIMATE AND ADAPTATIONS OF ANIMALS TO CLIMATE       0.00      0.00      0.00         4\n",
            "                                       WINDS, STORMS AND CYCLONES       0.00      0.00      0.00         4\n",
            "                                           WORK, ENERGY AND POWER       0.73      0.64      0.68       161\n",
            "\n",
            "                                                         accuracy                           0.79     11626\n",
            "                                                        macro avg       0.69      0.66      0.65     11626\n",
            "                                                     weighted avg       0.79      0.79      0.79     11626\n",
            "\n"
          ],
          "name": "stdout"
        }
      ]
    },
    {
      "cell_type": "code",
      "metadata": {
        "id": "qPf_Sdw0QIGO"
      },
      "source": [
        "def preprocess_sentence(question, class_):\n",
        "    filter_sentence = ''\n",
        "    sentence = 'class' + num_dict[class_] + ' ' + question\n",
        "\n",
        "    # Cleaning the sentence with regex\n",
        "    sentence = re.sub(r'[^\\w\\s]', '', sentence)\n",
        "\n",
        "    # Tokenization\n",
        "    words = nltk.word_tokenize(sentence)\n",
        "        \n",
        "    # Stopwords removal\n",
        "    words = [w for w in words if not w in stop_words]\n",
        "        \n",
        "    for words in words:\n",
        "        filter_sentence = filter_sentence  + ' ' + str(lemmatizer.lemmatize(words)).lower()\n",
        "    \n",
        "    return(filter_sentence)"
      ],
      "execution_count": 65,
      "outputs": []
    },
    {
      "cell_type": "code",
      "metadata": {
        "id": "d4oApeu9U41s"
      },
      "source": [
        "def detect(question, class_):\n",
        "    question = preprocess_sentence(question, class_)\n",
        "    chapter = predictor.predict(question)\n",
        "    return('The chapter is ' + chapter)"
      ],
      "execution_count": 66,
      "outputs": []
    },
    {
      "cell_type": "code",
      "metadata": {
        "colab": {
          "base_uri": "https://localhost:8080/",
          "height": 35
        },
        "id": "U3fi_J2ggdaX",
        "outputId": "6350fea9-c3e5-479b-81a7-54fc35b61d6a"
      },
      "source": [
        "detect(\"If  f(x)  is a differentiable function and  g(x) is a double differentiable function such that  |f(x)|≤1  and  f'(x)=g(x) . If  f2(0)+g2(0)=9 . Prove that there exists some  c∈(–3,3) such that g(c).g''(c)<0.\", 11)"
      ],
      "execution_count": 67,
      "outputs": [
        {
          "output_type": "display_data",
          "data": {
            "text/html": [
              ""
            ],
            "text/plain": [
              "<IPython.core.display.HTML object>"
            ]
          },
          "metadata": {
            "tags": []
          }
        },
        {
          "output_type": "execute_result",
          "data": {
            "application/vnd.google.colaboratory.intrinsic+json": {
              "type": "string"
            },
            "text/plain": [
              "'The chapter is RELATIONS AND FUNCTIONS'"
            ]
          },
          "metadata": {
            "tags": []
          },
          "execution_count": 67
        }
      ]
    },
    {
      "cell_type": "code",
      "metadata": {
        "colab": {
          "base_uri": "https://localhost:8080/",
          "height": 35
        },
        "id": "IxycFSYjhOGx",
        "outputId": "2fe42dc3-deac-4180-e261-d266f485a3a3"
      },
      "source": [
        "detect(\"The pH of a 0.1 M monobasic acid solution is found to be 2. The osmotic pressure of this solution at a temperature of T(K) is\", 11)"
      ],
      "execution_count": 68,
      "outputs": [
        {
          "output_type": "display_data",
          "data": {
            "text/html": [
              ""
            ],
            "text/plain": [
              "<IPython.core.display.HTML object>"
            ]
          },
          "metadata": {
            "tags": []
          }
        },
        {
          "output_type": "execute_result",
          "data": {
            "application/vnd.google.colaboratory.intrinsic+json": {
              "type": "string"
            },
            "text/plain": [
              "'The chapter is EQUILIBRIUM'"
            ]
          },
          "metadata": {
            "tags": []
          },
          "execution_count": 68
        }
      ]
    },
    {
      "cell_type": "code",
      "metadata": {
        "colab": {
          "base_uri": "https://localhost:8080/",
          "height": 35
        },
        "id": "3AToffFQQV3z",
        "outputId": "8d61d0c0-6e67-45cb-cb46-b173681ea042"
      },
      "source": [
        "detect(\"If the radius of the earth were to shrink by one percent, its mass remaining the same, the acceleration due to gravity on the earth’s surface would\", 11)"
      ],
      "execution_count": 69,
      "outputs": [
        {
          "output_type": "display_data",
          "data": {
            "text/html": [
              ""
            ],
            "text/plain": [
              "<IPython.core.display.HTML object>"
            ]
          },
          "metadata": {
            "tags": []
          }
        },
        {
          "output_type": "execute_result",
          "data": {
            "application/vnd.google.colaboratory.intrinsic+json": {
              "type": "string"
            },
            "text/plain": [
              "'The chapter is GRAVITATION'"
            ]
          },
          "metadata": {
            "tags": []
          },
          "execution_count": 69
        }
      ]
    },
    {
      "cell_type": "code",
      "metadata": {
        "colab": {
          "base_uri": "https://localhost:8080/",
          "height": 35
        },
        "id": "fXVvTZWUQ1pj",
        "outputId": "2b136803-6b6d-4992-e05b-8676c532fa2d"
      },
      "source": [
        "detect(\"A wall has two layers A and B, each made of different material. Both the layers have the same thickness. The thermal conductivity of the material of A is twice that of B. Under thermal equilibrium, the temperature difference across the wall is 36° C  The temperature difference across the layer A is\", 11)"
      ],
      "execution_count": 70,
      "outputs": [
        {
          "output_type": "display_data",
          "data": {
            "text/html": [
              ""
            ],
            "text/plain": [
              "<IPython.core.display.HTML object>"
            ]
          },
          "metadata": {
            "tags": []
          }
        },
        {
          "output_type": "execute_result",
          "data": {
            "application/vnd.google.colaboratory.intrinsic+json": {
              "type": "string"
            },
            "text/plain": [
              "'The chapter is THERMAL PROPERTIES OF MATTER'"
            ]
          },
          "metadata": {
            "tags": []
          },
          "execution_count": 70
        }
      ]
    },
    {
      "cell_type": "code",
      "metadata": {
        "colab": {
          "base_uri": "https://localhost:8080/",
          "height": 35
        },
        "id": "bINMUmjOQ8VP",
        "outputId": "f29678f5-d997-4097-d19d-60fe45514e4d"
      },
      "source": [
        "detect(\"Two bodies M and N of equal masses are suspended from two separate massless springs of spring con­stants k1 and k2 respectively. If the two bodies os­cillate vertically such that their maximum veloci­ties are equal, the ratio of the amplitude of vibra­tion of M to that of N is\", 11)"
      ],
      "execution_count": 71,
      "outputs": [
        {
          "output_type": "display_data",
          "data": {
            "text/html": [
              ""
            ],
            "text/plain": [
              "<IPython.core.display.HTML object>"
            ]
          },
          "metadata": {
            "tags": []
          }
        },
        {
          "output_type": "execute_result",
          "data": {
            "application/vnd.google.colaboratory.intrinsic+json": {
              "type": "string"
            },
            "text/plain": [
              "'The chapter is OSCILLATIONS'"
            ]
          },
          "metadata": {
            "tags": []
          },
          "execution_count": 71
        }
      ]
    },
    {
      "cell_type": "code",
      "metadata": {
        "colab": {
          "base_uri": "https://localhost:8080/",
          "height": 35
        },
        "id": "624rYmR9RjkT",
        "outputId": "8a6eccb4-1f02-4e29-8e42-284fe23d2f02"
      },
      "source": [
        "detect(\"Two equal point charges are fixed at x = -a and x = +a on the axis. Another point charge Q is placed at the origin. The change in the electrical potential energy of Q, when it is displaced by a small distance x along the x-axis, is approximately proportional to\", 12)"
      ],
      "execution_count": 72,
      "outputs": [
        {
          "output_type": "display_data",
          "data": {
            "text/html": [
              ""
            ],
            "text/plain": [
              "<IPython.core.display.HTML object>"
            ]
          },
          "metadata": {
            "tags": []
          }
        },
        {
          "output_type": "execute_result",
          "data": {
            "application/vnd.google.colaboratory.intrinsic+json": {
              "type": "string"
            },
            "text/plain": [
              "'The chapter is ELECTROSTATIC POTENTIAL AND CAPACITANCE'"
            ]
          },
          "metadata": {
            "tags": []
          },
          "execution_count": 72
        }
      ]
    },
    {
      "cell_type": "code",
      "metadata": {
        "colab": {
          "base_uri": "https://localhost:8080/",
          "height": 35
        },
        "id": "V_8dCf4pR5HF",
        "outputId": "df4eb920-3085-4034-e523-a0ed95cbe833"
      },
      "source": [
        "detect(\"A particle of mass m is moving in a circular path of constant radius r such that its centripetal acceleration ac is varying with time ‘t’ as ac = k2rt2 where ‘k’ is a constant. The power delivered to the particle by the force acting on it is\", 11)"
      ],
      "execution_count": 73,
      "outputs": [
        {
          "output_type": "display_data",
          "data": {
            "text/html": [
              ""
            ],
            "text/plain": [
              "<IPython.core.display.HTML object>"
            ]
          },
          "metadata": {
            "tags": []
          }
        },
        {
          "output_type": "execute_result",
          "data": {
            "application/vnd.google.colaboratory.intrinsic+json": {
              "type": "string"
            },
            "text/plain": [
              "'The chapter is WORK, ENERGY AND POWER'"
            ]
          },
          "metadata": {
            "tags": []
          },
          "execution_count": 73
        }
      ]
    },
    {
      "cell_type": "code",
      "metadata": {
        "colab": {
          "base_uri": "https://localhost:8080/",
          "height": 35
        },
        "id": "Z0uIEWgPR_Dq",
        "outputId": "c613d5eb-58af-4369-b994-0a4e88e845b1"
      },
      "source": [
        "detect(\"A smooth sphere A is moving on a frictionless horizontal plane with angular speed co and centre of mass velocity v. It collides elastically and head on with an identical sphere B at rest. Neglect friction everywhere. After the collision, their angular speeds are (0A and 0)B, respectively. Then\", 11)"
      ],
      "execution_count": 74,
      "outputs": [
        {
          "output_type": "display_data",
          "data": {
            "text/html": [
              ""
            ],
            "text/plain": [
              "<IPython.core.display.HTML object>"
            ]
          },
          "metadata": {
            "tags": []
          }
        },
        {
          "output_type": "execute_result",
          "data": {
            "application/vnd.google.colaboratory.intrinsic+json": {
              "type": "string"
            },
            "text/plain": [
              "'The chapter is WORK, ENERGY AND POWER'"
            ]
          },
          "metadata": {
            "tags": []
          },
          "execution_count": 74
        }
      ]
    },
    {
      "cell_type": "code",
      "metadata": {
        "colab": {
          "base_uri": "https://localhost:8080/",
          "height": 35
        },
        "id": "kHu_byU3SF78",
        "outputId": "988519a6-d197-4ac9-ad58-2a4e2bf38cef"
      },
      "source": [
        "detect(\"if the chord y = mx + 1 of the circle x2 + y2 = 1 subtend an angle of 45 degree as the major segment of the circle, then the value of m is\", 11)"
      ],
      "execution_count": 75,
      "outputs": [
        {
          "output_type": "display_data",
          "data": {
            "text/html": [
              ""
            ],
            "text/plain": [
              "<IPython.core.display.HTML object>"
            ]
          },
          "metadata": {
            "tags": []
          }
        },
        {
          "output_type": "execute_result",
          "data": {
            "application/vnd.google.colaboratory.intrinsic+json": {
              "type": "string"
            },
            "text/plain": [
              "'The chapter is CONIC SECTIONS'"
            ]
          },
          "metadata": {
            "tags": []
          },
          "execution_count": 75
        }
      ]
    },
    {
      "cell_type": "code",
      "metadata": {
        "id": "UstabOW0SzLN"
      },
      "source": [
        ""
      ],
      "execution_count": null,
      "outputs": []
    }
  ]
}